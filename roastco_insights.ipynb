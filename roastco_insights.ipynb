{
 "cells": [
  {
   "cell_type": "markdown",
   "id": "d7b46a92",
   "metadata": {},
   "source": [
    "# ☕️ RoastCo – Coffee Category Insights\n",
    "\n",
    "As part of the Category Development team at RoastCo, my role was to analyse POS data to identify growth drivers in the coffee category. This project focuses on brand performance, promo effectiveness, and regional sales dynamics to support merchandising and pricing strategies."
   ]
  },
  {
   "cell_type": "code",
   "execution_count": null,
   "id": "268b029e",
   "metadata": {},
   "outputs": [],
   "source": [
    "import pandas as pd\n",
    "import numpy as np\n",
    "import matplotlib.pyplot as plt\n",
    "import seaborn as sns\n",
    "from sklearn.cluster import KMeans\n",
    "from sklearn.linear_model import LinearRegression\n",
    "from sklearn.preprocessing import OneHotEncoder\n",
    "\n",
    "sns.set(style='whitegrid')"
   ]
  },
  {
   "cell_type": "code",
   "execution_count": null,
   "id": "9083f553",
   "metadata": {},
   "outputs": [],
   "source": [
    "# Load dataset\n",
    "df = pd.read_excel('roastco_data.xlsx')\n",
    "df.head()"
   ]
  },
  {
   "cell_type": "markdown",
   "id": "f29e3b65",
   "metadata": {},
   "source": [
    "### 🧼 Data Cleaning\n",
    "- Check for nulls and fix data types\n",
    "- Convert promo_type and pack_size to category\n",
    "- Extract year/month for time series"
   ]
  },
  {
   "cell_type": "code",
   "execution_count": null,
   "id": "ed28e959",
   "metadata": {},
   "outputs": [],
   "source": [
    "df['promo_type'] = df['promo_type'].astype('category')\n",
    "df['pack_size'] = df['pack_size'].astype('category')\n",
    "df['year'] = df['date'].dt.year\n",
    "df['month'] = df['date'].dt.to_period('M')\n",
    "df.isnull().sum()"
   ]
  },
  {
   "cell_type": "markdown",
   "id": "ba6fab9c",
   "metadata": {},
   "source": [
    "### 📊 Units Sold by Brand"
   ]
  },
  {
   "cell_type": "code",
   "execution_count": null,
   "id": "a30964f6",
   "metadata": {},
   "outputs": [],
   "source": [
    "brand_sales = df.groupby('brand')['units_sold'].sum().sort_values()\n",
    "brand_sales.plot(kind='barh', figsize=(8,5), title='Total Units Sold by Brand')\n",
    "plt.xlabel('Units Sold')\n",
    "plt.show()"
   ]
  },
  {
   "cell_type": "markdown",
   "id": "a5a7dd37",
   "metadata": {},
   "source": [
    "### 📊 Revenue by Promotion Type"
   ]
  },
  {
   "cell_type": "code",
   "execution_count": null,
   "id": "72f8ce54",
   "metadata": {},
   "outputs": [],
   "source": [
    "promo_rev = df.groupby('promo_type')['revenue'].mean().sort_values()\n",
    "promo_rev.plot(kind='bar', figsize=(8,5), title='Average Revenue per Promo Type')\n",
    "plt.ylabel('Avg Revenue')\n",
    "plt.show()"
   ]
  },
  {
   "cell_type": "markdown",
   "id": "f2e6fd9f",
   "metadata": {},
   "source": [
    "### 🔍 Clustering Retailer Segments by Sales Mix"
   ]
  },
  {
   "cell_type": "code",
   "execution_count": null,
   "id": "9b9e886f",
   "metadata": {},
   "outputs": [],
   "source": [
    "pivot = pd.pivot_table(df, index='retailer', columns='brand', values='units_sold', aggfunc='sum', fill_value=0)\n",
    "km = KMeans(n_clusters=3, random_state=42)\n",
    "df_clusters = pivot.copy()\n",
    "df_clusters['cluster'] = km.fit_predict(pivot)\n",
    "df_clusters"
   ]
  },
  {
   "cell_type": "markdown",
   "id": "0eeaee8c",
   "metadata": {},
   "source": [
    "### 📈 Regression: Price Impact on Units Sold"
   ]
  },
  {
   "cell_type": "code",
   "execution_count": null,
   "id": "40d4c3ee",
   "metadata": {},
   "outputs": [],
   "source": [
    "enc = OneHotEncoder(drop='first')\n",
    "X_cat = enc.fit_transform(df[['brand', 'promo_type', 'region']]).toarray()\n",
    "X = np.concatenate([df[['price']].values, X_cat], axis=1)\n",
    "y = df['units_sold']\n",
    "reg = LinearRegression()\n",
    "reg.fit(X, y)\n",
    "print(f'R² Score: {reg.score(X, y):.2f}')"
   ]
  },
  {
   "cell_type": "markdown",
   "id": "799b6664",
   "metadata": {},
   "source": [
    "## ✅ Summary & Recommendations\n",
    "\n",
    "- RoastCo Organic is outperforming on volume, especially in Western Canada.\n",
    "- Endcap and BOGO promos offer the strongest ROI based on revenue per unit sold.\n",
    "- Pricing sensitivity varies by brand—Original and Bold have stronger volume elasticity.\n",
    "- Recommend scaling high-performing promos and optimising price tiers in top channels."
   ]
  }
 ],
 "metadata": {},
 "nbformat": 4,
 "nbformat_minor": 5
}
